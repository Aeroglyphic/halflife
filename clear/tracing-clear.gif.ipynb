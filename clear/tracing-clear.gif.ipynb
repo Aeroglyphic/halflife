{
 "cells": [
  {
   "cell_type": "markdown",
   "metadata": {},
   "source": []
  },
  {
   "cell_type": "code",
   "execution_count": 3,
   "metadata": {
    "collapsed": false,
    "scrolled": true
   },
   "outputs": [
    {
     "name": "stdout",
     "output_type": "stream",
     "text": [
      "{'total': 2365898, 'hash': 'K3KF7CQX6UDYUIFPTFRMTEWKIZ4EKB3F', 'names': ['cleardot.gif', 'cleardot.gif']}\n"
     ]
    }
   ],
   "source": [
    "clears = []\n",
    "clears.append( {\"hash\": \"7KUBIUXQYGNTAS4J6AEG7BNCSQNFPQZN\", \"names\": [\"visit.gif\"], \"total\": 406 } )\n",
    "clears.append( {\"hash\": \"D2VQOLYTNWE6VT3MMPGIQANFPXGIS4SW\", \"names\": [\"c.gif\"], \"total\": 814 } )\n",
    "clears.append( {\"hash\": \"FWXKVC27DHYLYIE5S5WAFPLKZNI3ACYK\", \"names\": [\"n.gif\", \"spaceball.gif\"], \"total\": 180895 } )\n",
    "clears.append( {\"hash\": \"GF2JNIEW23EGJBVHDVCSDGKLZULRU25T\", \"names\": [\"clear.gif\"], \"total\": 16949 } )\n",
    "clears.append( {\"hash\": \"GKHEOJZBVEZULAA62VJTEQHKYLI7QSMM\", \"names\": [\"dot_clear.gif\",\"pixel.gif\"], \"total\": 203802 } )\n",
    "clears.append( {\"hash\": \"K3KF7CQX6UDYUIFPTFRMTEWKIZ4EKB3F\", \"names\": [\"cleardot.gif\", \"cleardot.gif\"], \"total\": 2365898 } )\n",
    "clears.append( {\"hash\": \"TUA4YXOI4BBMBVFNNT5YWOWDR2CKL347\", \"names\": [\"blank.gif\"], \"total\": 29252 } )\n",
    "\n",
    "extra = {\"hash\": \"EXMAIMZW5N4Z4UVRUDQV75VZLYE4ETRV\", \"names\": [\"ANJcron.php.gif\"], \"total\": 196746 } \n",
    "\n",
    "print(clears[5])"
   ]
  },
  {
   "cell_type": "code",
   "execution_count": 13,
   "metadata": {
    "collapsed": false,
    "scrolled": true
   },
   "outputs": [
    {
     "name": "stdout",
     "output_type": "stream",
     "text": [
      "GET 7KUBIUXQYGNTAS4J6AEG7BNCSQNFPQZN 1996 - http://192.168.1.181:8983/solr/jisc5/select?q=hash%3A%22sha1%3A7KUBIUXQYGNTAS4J6AEG7BNCSQNFPQZN%22&fq=crawl_years%3A1996&rows=1&wt=json&indent=true&facet=true&facet.field=domain&facet.mincount=1\n",
      "GET 7KUBIUXQYGNTAS4J6AEG7BNCSQNFPQZN 1997 - http://192.168.1.181:8983/solr/jisc5/select?q=hash%3A%22sha1%3A7KUBIUXQYGNTAS4J6AEG7BNCSQNFPQZN%22&fq=crawl_years%3A1997&rows=1&wt=json&indent=true&facet=true&facet.field=domain&facet.mincount=1\n",
      "GET 7KUBIUXQYGNTAS4J6AEG7BNCSQNFPQZN 1998 - http://192.168.1.181:8983/solr/jisc5/select?q=hash%3A%22sha1%3A7KUBIUXQYGNTAS4J6AEG7BNCSQNFPQZN%22&fq=crawl_years%3A1998&rows=1&wt=json&indent=true&facet=true&facet.field=domain&facet.mincount=1\n",
      "GET 7KUBIUXQYGNTAS4J6AEG7BNCSQNFPQZN 1999 - http://192.168.1.181:8983/solr/jisc5/select?q=hash%3A%22sha1%3A7KUBIUXQYGNTAS4J6AEG7BNCSQNFPQZN%22&fq=crawl_years%3A1999&rows=1&wt=json&indent=true&facet=true&facet.field=domain&facet.mincount=1\n",
      "GET 7KUBIUXQYGNTAS4J6AEG7BNCSQNFPQZN 2000 - http://192.168.1.181:8983/solr/jisc5/select?q=hash%3A%22sha1%3A7KUBIUXQYGNTAS4J6AEG7BNCSQNFPQZN%22&fq=crawl_years%3A2000&rows=1&wt=json&indent=true&facet=true&facet.field=domain&facet.mincount=1\n",
      "GET 7KUBIUXQYGNTAS4J6AEG7BNCSQNFPQZN 2001 - http://192.168.1.181:8983/solr/jisc5/select?q=hash%3A%22sha1%3A7KUBIUXQYGNTAS4J6AEG7BNCSQNFPQZN%22&fq=crawl_years%3A2001&rows=1&wt=json&indent=true&facet=true&facet.field=domain&facet.mincount=1\n",
      "GET 7KUBIUXQYGNTAS4J6AEG7BNCSQNFPQZN 2002 - http://192.168.1.181:8983/solr/jisc5/select?q=hash%3A%22sha1%3A7KUBIUXQYGNTAS4J6AEG7BNCSQNFPQZN%22&fq=crawl_years%3A2002&rows=1&wt=json&indent=true&facet=true&facet.field=domain&facet.mincount=1\n",
      "GET 7KUBIUXQYGNTAS4J6AEG7BNCSQNFPQZN 2003 - http://192.168.1.181:8983/solr/jisc5/select?q=hash%3A%22sha1%3A7KUBIUXQYGNTAS4J6AEG7BNCSQNFPQZN%22&fq=crawl_years%3A2003&rows=1&wt=json&indent=true&facet=true&facet.field=domain&facet.mincount=1\n",
      "GET 7KUBIUXQYGNTAS4J6AEG7BNCSQNFPQZN 2004 - http://192.168.1.181:8983/solr/jisc5/select?q=hash%3A%22sha1%3A7KUBIUXQYGNTAS4J6AEG7BNCSQNFPQZN%22&fq=crawl_years%3A2004&rows=1&wt=json&indent=true&facet=true&facet.field=domain&facet.mincount=1\n",
      "GET 7KUBIUXQYGNTAS4J6AEG7BNCSQNFPQZN 2005 - http://192.168.1.181:8983/solr/jisc5/select?q=hash%3A%22sha1%3A7KUBIUXQYGNTAS4J6AEG7BNCSQNFPQZN%22&fq=crawl_years%3A2005&rows=1&wt=json&indent=true&facet=true&facet.field=domain&facet.mincount=1\n",
      "GET 7KUBIUXQYGNTAS4J6AEG7BNCSQNFPQZN 2006 - http://192.168.1.181:8983/solr/jisc5/select?q=hash%3A%22sha1%3A7KUBIUXQYGNTAS4J6AEG7BNCSQNFPQZN%22&fq=crawl_years%3A2006&rows=1&wt=json&indent=true&facet=true&facet.field=domain&facet.mincount=1\n",
      "GET 7KUBIUXQYGNTAS4J6AEG7BNCSQNFPQZN 2007 - http://192.168.1.181:8983/solr/jisc5/select?q=hash%3A%22sha1%3A7KUBIUXQYGNTAS4J6AEG7BNCSQNFPQZN%22&fq=crawl_years%3A2007&rows=1&wt=json&indent=true&facet=true&facet.field=domain&facet.mincount=1\n",
      "GET 7KUBIUXQYGNTAS4J6AEG7BNCSQNFPQZN 2008 - http://192.168.1.181:8983/solr/jisc5/select?q=hash%3A%22sha1%3A7KUBIUXQYGNTAS4J6AEG7BNCSQNFPQZN%22&fq=crawl_years%3A2008&rows=1&wt=json&indent=true&facet=true&facet.field=domain&facet.mincount=1\n",
      "GET 7KUBIUXQYGNTAS4J6AEG7BNCSQNFPQZN 2009 - http://192.168.1.181:8983/solr/jisc5/select?q=hash%3A%22sha1%3A7KUBIUXQYGNTAS4J6AEG7BNCSQNFPQZN%22&fq=crawl_years%3A2009&rows=1&wt=json&indent=true&facet=true&facet.field=domain&facet.mincount=1\n",
      "GET 7KUBIUXQYGNTAS4J6AEG7BNCSQNFPQZN 2010 - http://192.168.1.181:8983/solr/jisc5/select?q=hash%3A%22sha1%3A7KUBIUXQYGNTAS4J6AEG7BNCSQNFPQZN%22&fq=crawl_years%3A2010&rows=1&wt=json&indent=true&facet=true&facet.field=domain&facet.mincount=1\n",
      "GET D2VQOLYTNWE6VT3MMPGIQANFPXGIS4SW 1996 - http://192.168.1.181:8983/solr/jisc5/select?q=hash%3A%22sha1%3AD2VQOLYTNWE6VT3MMPGIQANFPXGIS4SW%22&fq=crawl_years%3A1996&rows=1&wt=json&indent=true&facet=true&facet.field=domain&facet.mincount=1\n",
      "GET D2VQOLYTNWE6VT3MMPGIQANFPXGIS4SW 1997 - http://192.168.1.181:8983/solr/jisc5/select?q=hash%3A%22sha1%3AD2VQOLYTNWE6VT3MMPGIQANFPXGIS4SW%22&fq=crawl_years%3A1997&rows=1&wt=json&indent=true&facet=true&facet.field=domain&facet.mincount=1\n",
      "GET D2VQOLYTNWE6VT3MMPGIQANFPXGIS4SW 1998 - http://192.168.1.181:8983/solr/jisc5/select?q=hash%3A%22sha1%3AD2VQOLYTNWE6VT3MMPGIQANFPXGIS4SW%22&fq=crawl_years%3A1998&rows=1&wt=json&indent=true&facet=true&facet.field=domain&facet.mincount=1\n",
      "GET D2VQOLYTNWE6VT3MMPGIQANFPXGIS4SW 1999 - http://192.168.1.181:8983/solr/jisc5/select?q=hash%3A%22sha1%3AD2VQOLYTNWE6VT3MMPGIQANFPXGIS4SW%22&fq=crawl_years%3A1999&rows=1&wt=json&indent=true&facet=true&facet.field=domain&facet.mincount=1\n",
      "GET D2VQOLYTNWE6VT3MMPGIQANFPXGIS4SW 2000 - http://192.168.1.181:8983/solr/jisc5/select?q=hash%3A%22sha1%3AD2VQOLYTNWE6VT3MMPGIQANFPXGIS4SW%22&fq=crawl_years%3A2000&rows=1&wt=json&indent=true&facet=true&facet.field=domain&facet.mincount=1\n",
      "GET D2VQOLYTNWE6VT3MMPGIQANFPXGIS4SW 2001 - http://192.168.1.181:8983/solr/jisc5/select?q=hash%3A%22sha1%3AD2VQOLYTNWE6VT3MMPGIQANFPXGIS4SW%22&fq=crawl_years%3A2001&rows=1&wt=json&indent=true&facet=true&facet.field=domain&facet.mincount=1\n",
      "GET D2VQOLYTNWE6VT3MMPGIQANFPXGIS4SW 2002 - http://192.168.1.181:8983/solr/jisc5/select?q=hash%3A%22sha1%3AD2VQOLYTNWE6VT3MMPGIQANFPXGIS4SW%22&fq=crawl_years%3A2002&rows=1&wt=json&indent=true&facet=true&facet.field=domain&facet.mincount=1\n",
      "GET D2VQOLYTNWE6VT3MMPGIQANFPXGIS4SW 2003 - http://192.168.1.181:8983/solr/jisc5/select?q=hash%3A%22sha1%3AD2VQOLYTNWE6VT3MMPGIQANFPXGIS4SW%22&fq=crawl_years%3A2003&rows=1&wt=json&indent=true&facet=true&facet.field=domain&facet.mincount=1\n",
      "GET D2VQOLYTNWE6VT3MMPGIQANFPXGIS4SW 2004 - http://192.168.1.181:8983/solr/jisc5/select?q=hash%3A%22sha1%3AD2VQOLYTNWE6VT3MMPGIQANFPXGIS4SW%22&fq=crawl_years%3A2004&rows=1&wt=json&indent=true&facet=true&facet.field=domain&facet.mincount=1\n",
      "GET D2VQOLYTNWE6VT3MMPGIQANFPXGIS4SW 2005 - http://192.168.1.181:8983/solr/jisc5/select?q=hash%3A%22sha1%3AD2VQOLYTNWE6VT3MMPGIQANFPXGIS4SW%22&fq=crawl_years%3A2005&rows=1&wt=json&indent=true&facet=true&facet.field=domain&facet.mincount=1\n",
      "GET D2VQOLYTNWE6VT3MMPGIQANFPXGIS4SW 2006 - http://192.168.1.181:8983/solr/jisc5/select?q=hash%3A%22sha1%3AD2VQOLYTNWE6VT3MMPGIQANFPXGIS4SW%22&fq=crawl_years%3A2006&rows=1&wt=json&indent=true&facet=true&facet.field=domain&facet.mincount=1\n",
      "GET D2VQOLYTNWE6VT3MMPGIQANFPXGIS4SW 2007 - http://192.168.1.181:8983/solr/jisc5/select?q=hash%3A%22sha1%3AD2VQOLYTNWE6VT3MMPGIQANFPXGIS4SW%22&fq=crawl_years%3A2007&rows=1&wt=json&indent=true&facet=true&facet.field=domain&facet.mincount=1\n",
      "GET D2VQOLYTNWE6VT3MMPGIQANFPXGIS4SW 2008 - http://192.168.1.181:8983/solr/jisc5/select?q=hash%3A%22sha1%3AD2VQOLYTNWE6VT3MMPGIQANFPXGIS4SW%22&fq=crawl_years%3A2008&rows=1&wt=json&indent=true&facet=true&facet.field=domain&facet.mincount=1\n",
      "GET D2VQOLYTNWE6VT3MMPGIQANFPXGIS4SW 2009 - http://192.168.1.181:8983/solr/jisc5/select?q=hash%3A%22sha1%3AD2VQOLYTNWE6VT3MMPGIQANFPXGIS4SW%22&fq=crawl_years%3A2009&rows=1&wt=json&indent=true&facet=true&facet.field=domain&facet.mincount=1\n",
      "GET D2VQOLYTNWE6VT3MMPGIQANFPXGIS4SW 2010 - http://192.168.1.181:8983/solr/jisc5/select?q=hash%3A%22sha1%3AD2VQOLYTNWE6VT3MMPGIQANFPXGIS4SW%22&fq=crawl_years%3A2010&rows=1&wt=json&indent=true&facet=true&facet.field=domain&facet.mincount=1\n",
      "GET FWXKVC27DHYLYIE5S5WAFPLKZNI3ACYK 1996 - http://192.168.1.181:8983/solr/jisc5/select?q=hash%3A%22sha1%3AFWXKVC27DHYLYIE5S5WAFPLKZNI3ACYK%22&fq=crawl_years%3A1996&rows=1&wt=json&indent=true&facet=true&facet.field=domain&facet.mincount=1\n",
      "GET FWXKVC27DHYLYIE5S5WAFPLKZNI3ACYK 1997 - http://192.168.1.181:8983/solr/jisc5/select?q=hash%3A%22sha1%3AFWXKVC27DHYLYIE5S5WAFPLKZNI3ACYK%22&fq=crawl_years%3A1997&rows=1&wt=json&indent=true&facet=true&facet.field=domain&facet.mincount=1\n",
      "GET FWXKVC27DHYLYIE5S5WAFPLKZNI3ACYK 1998 - http://192.168.1.181:8983/solr/jisc5/select?q=hash%3A%22sha1%3AFWXKVC27DHYLYIE5S5WAFPLKZNI3ACYK%22&fq=crawl_years%3A1998&rows=1&wt=json&indent=true&facet=true&facet.field=domain&facet.mincount=1\n",
      "GET FWXKVC27DHYLYIE5S5WAFPLKZNI3ACYK 1999 - http://192.168.1.181:8983/solr/jisc5/select?q=hash%3A%22sha1%3AFWXKVC27DHYLYIE5S5WAFPLKZNI3ACYK%22&fq=crawl_years%3A1999&rows=1&wt=json&indent=true&facet=true&facet.field=domain&facet.mincount=1\n",
      "GET FWXKVC27DHYLYIE5S5WAFPLKZNI3ACYK 2000 - http://192.168.1.181:8983/solr/jisc5/select?q=hash%3A%22sha1%3AFWXKVC27DHYLYIE5S5WAFPLKZNI3ACYK%22&fq=crawl_years%3A2000&rows=1&wt=json&indent=true&facet=true&facet.field=domain&facet.mincount=1\n",
      "GET FWXKVC27DHYLYIE5S5WAFPLKZNI3ACYK 2001 - http://192.168.1.181:8983/solr/jisc5/select?q=hash%3A%22sha1%3AFWXKVC27DHYLYIE5S5WAFPLKZNI3ACYK%22&fq=crawl_years%3A2001&rows=1&wt=json&indent=true&facet=true&facet.field=domain&facet.mincount=1\n",
      "GET FWXKVC27DHYLYIE5S5WAFPLKZNI3ACYK 2002 - http://192.168.1.181:8983/solr/jisc5/select?q=hash%3A%22sha1%3AFWXKVC27DHYLYIE5S5WAFPLKZNI3ACYK%22&fq=crawl_years%3A2002&rows=1&wt=json&indent=true&facet=true&facet.field=domain&facet.mincount=1\n",
      "GET FWXKVC27DHYLYIE5S5WAFPLKZNI3ACYK 2003 - http://192.168.1.181:8983/solr/jisc5/select?q=hash%3A%22sha1%3AFWXKVC27DHYLYIE5S5WAFPLKZNI3ACYK%22&fq=crawl_years%3A2003&rows=1&wt=json&indent=true&facet=true&facet.field=domain&facet.mincount=1\n",
      "GET FWXKVC27DHYLYIE5S5WAFPLKZNI3ACYK 2004 - http://192.168.1.181:8983/solr/jisc5/select?q=hash%3A%22sha1%3AFWXKVC27DHYLYIE5S5WAFPLKZNI3ACYK%22&fq=crawl_years%3A2004&rows=1&wt=json&indent=true&facet=true&facet.field=domain&facet.mincount=1\n",
      "GET FWXKVC27DHYLYIE5S5WAFPLKZNI3ACYK 2005 - http://192.168.1.181:8983/solr/jisc5/select?q=hash%3A%22sha1%3AFWXKVC27DHYLYIE5S5WAFPLKZNI3ACYK%22&fq=crawl_years%3A2005&rows=1&wt=json&indent=true&facet=true&facet.field=domain&facet.mincount=1\n",
      "GET FWXKVC27DHYLYIE5S5WAFPLKZNI3ACYK 2006 - http://192.168.1.181:8983/solr/jisc5/select?q=hash%3A%22sha1%3AFWXKVC27DHYLYIE5S5WAFPLKZNI3ACYK%22&fq=crawl_years%3A2006&rows=1&wt=json&indent=true&facet=true&facet.field=domain&facet.mincount=1\n",
      "GET FWXKVC27DHYLYIE5S5WAFPLKZNI3ACYK 2007 - http://192.168.1.181:8983/solr/jisc5/select?q=hash%3A%22sha1%3AFWXKVC27DHYLYIE5S5WAFPLKZNI3ACYK%22&fq=crawl_years%3A2007&rows=1&wt=json&indent=true&facet=true&facet.field=domain&facet.mincount=1\n",
      "GET FWXKVC27DHYLYIE5S5WAFPLKZNI3ACYK 2008 - http://192.168.1.181:8983/solr/jisc5/select?q=hash%3A%22sha1%3AFWXKVC27DHYLYIE5S5WAFPLKZNI3ACYK%22&fq=crawl_years%3A2008&rows=1&wt=json&indent=true&facet=true&facet.field=domain&facet.mincount=1\n",
      "GET FWXKVC27DHYLYIE5S5WAFPLKZNI3ACYK 2009 - http://192.168.1.181:8983/solr/jisc5/select?q=hash%3A%22sha1%3AFWXKVC27DHYLYIE5S5WAFPLKZNI3ACYK%22&fq=crawl_years%3A2009&rows=1&wt=json&indent=true&facet=true&facet.field=domain&facet.mincount=1\n",
      "GET FWXKVC27DHYLYIE5S5WAFPLKZNI3ACYK 2010 - http://192.168.1.181:8983/solr/jisc5/select?q=hash%3A%22sha1%3AFWXKVC27DHYLYIE5S5WAFPLKZNI3ACYK%22&fq=crawl_years%3A2010&rows=1&wt=json&indent=true&facet=true&facet.field=domain&facet.mincount=1\n",
      "GET GF2JNIEW23EGJBVHDVCSDGKLZULRU25T 1996 - http://192.168.1.181:8983/solr/jisc5/select?q=hash%3A%22sha1%3AGF2JNIEW23EGJBVHDVCSDGKLZULRU25T%22&fq=crawl_years%3A1996&rows=1&wt=json&indent=true&facet=true&facet.field=domain&facet.mincount=1\n",
      "GET GF2JNIEW23EGJBVHDVCSDGKLZULRU25T 1997 - http://192.168.1.181:8983/solr/jisc5/select?q=hash%3A%22sha1%3AGF2JNIEW23EGJBVHDVCSDGKLZULRU25T%22&fq=crawl_years%3A1997&rows=1&wt=json&indent=true&facet=true&facet.field=domain&facet.mincount=1\n",
      "GET GF2JNIEW23EGJBVHDVCSDGKLZULRU25T 1998 - http://192.168.1.181:8983/solr/jisc5/select?q=hash%3A%22sha1%3AGF2JNIEW23EGJBVHDVCSDGKLZULRU25T%22&fq=crawl_years%3A1998&rows=1&wt=json&indent=true&facet=true&facet.field=domain&facet.mincount=1\n",
      "GET GF2JNIEW23EGJBVHDVCSDGKLZULRU25T 1999 - http://192.168.1.181:8983/solr/jisc5/select?q=hash%3A%22sha1%3AGF2JNIEW23EGJBVHDVCSDGKLZULRU25T%22&fq=crawl_years%3A1999&rows=1&wt=json&indent=true&facet=true&facet.field=domain&facet.mincount=1\n",
      "GET GF2JNIEW23EGJBVHDVCSDGKLZULRU25T 2000 - http://192.168.1.181:8983/solr/jisc5/select?q=hash%3A%22sha1%3AGF2JNIEW23EGJBVHDVCSDGKLZULRU25T%22&fq=crawl_years%3A2000&rows=1&wt=json&indent=true&facet=true&facet.field=domain&facet.mincount=1\n",
      "GET GF2JNIEW23EGJBVHDVCSDGKLZULRU25T 2001 - http://192.168.1.181:8983/solr/jisc5/select?q=hash%3A%22sha1%3AGF2JNIEW23EGJBVHDVCSDGKLZULRU25T%22&fq=crawl_years%3A2001&rows=1&wt=json&indent=true&facet=true&facet.field=domain&facet.mincount=1\n",
      "GET GF2JNIEW23EGJBVHDVCSDGKLZULRU25T 2002 - http://192.168.1.181:8983/solr/jisc5/select?q=hash%3A%22sha1%3AGF2JNIEW23EGJBVHDVCSDGKLZULRU25T%22&fq=crawl_years%3A2002&rows=1&wt=json&indent=true&facet=true&facet.field=domain&facet.mincount=1\n",
      "GET GF2JNIEW23EGJBVHDVCSDGKLZULRU25T 2003 - http://192.168.1.181:8983/solr/jisc5/select?q=hash%3A%22sha1%3AGF2JNIEW23EGJBVHDVCSDGKLZULRU25T%22&fq=crawl_years%3A2003&rows=1&wt=json&indent=true&facet=true&facet.field=domain&facet.mincount=1\n",
      "GET GF2JNIEW23EGJBVHDVCSDGKLZULRU25T 2004 - http://192.168.1.181:8983/solr/jisc5/select?q=hash%3A%22sha1%3AGF2JNIEW23EGJBVHDVCSDGKLZULRU25T%22&fq=crawl_years%3A2004&rows=1&wt=json&indent=true&facet=true&facet.field=domain&facet.mincount=1\n",
      "GET GF2JNIEW23EGJBVHDVCSDGKLZULRU25T 2005 - http://192.168.1.181:8983/solr/jisc5/select?q=hash%3A%22sha1%3AGF2JNIEW23EGJBVHDVCSDGKLZULRU25T%22&fq=crawl_years%3A2005&rows=1&wt=json&indent=true&facet=true&facet.field=domain&facet.mincount=1\n",
      "GET GF2JNIEW23EGJBVHDVCSDGKLZULRU25T 2006 - http://192.168.1.181:8983/solr/jisc5/select?q=hash%3A%22sha1%3AGF2JNIEW23EGJBVHDVCSDGKLZULRU25T%22&fq=crawl_years%3A2006&rows=1&wt=json&indent=true&facet=true&facet.field=domain&facet.mincount=1\n",
      "GET GF2JNIEW23EGJBVHDVCSDGKLZULRU25T 2007 - http://192.168.1.181:8983/solr/jisc5/select?q=hash%3A%22sha1%3AGF2JNIEW23EGJBVHDVCSDGKLZULRU25T%22&fq=crawl_years%3A2007&rows=1&wt=json&indent=true&facet=true&facet.field=domain&facet.mincount=1\n",
      "GET GF2JNIEW23EGJBVHDVCSDGKLZULRU25T 2008 - http://192.168.1.181:8983/solr/jisc5/select?q=hash%3A%22sha1%3AGF2JNIEW23EGJBVHDVCSDGKLZULRU25T%22&fq=crawl_years%3A2008&rows=1&wt=json&indent=true&facet=true&facet.field=domain&facet.mincount=1\n",
      "GET GF2JNIEW23EGJBVHDVCSDGKLZULRU25T 2009 - http://192.168.1.181:8983/solr/jisc5/select?q=hash%3A%22sha1%3AGF2JNIEW23EGJBVHDVCSDGKLZULRU25T%22&fq=crawl_years%3A2009&rows=1&wt=json&indent=true&facet=true&facet.field=domain&facet.mincount=1\n",
      "GET GF2JNIEW23EGJBVHDVCSDGKLZULRU25T 2010 - http://192.168.1.181:8983/solr/jisc5/select?q=hash%3A%22sha1%3AGF2JNIEW23EGJBVHDVCSDGKLZULRU25T%22&fq=crawl_years%3A2010&rows=1&wt=json&indent=true&facet=true&facet.field=domain&facet.mincount=1\n",
      "GET GKHEOJZBVEZULAA62VJTEQHKYLI7QSMM 1996 - http://192.168.1.181:8983/solr/jisc5/select?q=hash%3A%22sha1%3AGKHEOJZBVEZULAA62VJTEQHKYLI7QSMM%22&fq=crawl_years%3A1996&rows=1&wt=json&indent=true&facet=true&facet.field=domain&facet.mincount=1\n",
      "GET GKHEOJZBVEZULAA62VJTEQHKYLI7QSMM 1997 - http://192.168.1.181:8983/solr/jisc5/select?q=hash%3A%22sha1%3AGKHEOJZBVEZULAA62VJTEQHKYLI7QSMM%22&fq=crawl_years%3A1997&rows=1&wt=json&indent=true&facet=true&facet.field=domain&facet.mincount=1\n",
      "GET GKHEOJZBVEZULAA62VJTEQHKYLI7QSMM 1998 - http://192.168.1.181:8983/solr/jisc5/select?q=hash%3A%22sha1%3AGKHEOJZBVEZULAA62VJTEQHKYLI7QSMM%22&fq=crawl_years%3A1998&rows=1&wt=json&indent=true&facet=true&facet.field=domain&facet.mincount=1\n",
      "GET GKHEOJZBVEZULAA62VJTEQHKYLI7QSMM 1999 - http://192.168.1.181:8983/solr/jisc5/select?q=hash%3A%22sha1%3AGKHEOJZBVEZULAA62VJTEQHKYLI7QSMM%22&fq=crawl_years%3A1999&rows=1&wt=json&indent=true&facet=true&facet.field=domain&facet.mincount=1\n",
      "GET GKHEOJZBVEZULAA62VJTEQHKYLI7QSMM 2000 - http://192.168.1.181:8983/solr/jisc5/select?q=hash%3A%22sha1%3AGKHEOJZBVEZULAA62VJTEQHKYLI7QSMM%22&fq=crawl_years%3A2000&rows=1&wt=json&indent=true&facet=true&facet.field=domain&facet.mincount=1\n",
      "GET GKHEOJZBVEZULAA62VJTEQHKYLI7QSMM 2001 - http://192.168.1.181:8983/solr/jisc5/select?q=hash%3A%22sha1%3AGKHEOJZBVEZULAA62VJTEQHKYLI7QSMM%22&fq=crawl_years%3A2001&rows=1&wt=json&indent=true&facet=true&facet.field=domain&facet.mincount=1\n",
      "GET GKHEOJZBVEZULAA62VJTEQHKYLI7QSMM 2002 - http://192.168.1.181:8983/solr/jisc5/select?q=hash%3A%22sha1%3AGKHEOJZBVEZULAA62VJTEQHKYLI7QSMM%22&fq=crawl_years%3A2002&rows=1&wt=json&indent=true&facet=true&facet.field=domain&facet.mincount=1\n",
      "GET GKHEOJZBVEZULAA62VJTEQHKYLI7QSMM 2003 - http://192.168.1.181:8983/solr/jisc5/select?q=hash%3A%22sha1%3AGKHEOJZBVEZULAA62VJTEQHKYLI7QSMM%22&fq=crawl_years%3A2003&rows=1&wt=json&indent=true&facet=true&facet.field=domain&facet.mincount=1\n",
      "GET GKHEOJZBVEZULAA62VJTEQHKYLI7QSMM 2004 - http://192.168.1.181:8983/solr/jisc5/select?q=hash%3A%22sha1%3AGKHEOJZBVEZULAA62VJTEQHKYLI7QSMM%22&fq=crawl_years%3A2004&rows=1&wt=json&indent=true&facet=true&facet.field=domain&facet.mincount=1\n",
      "GET GKHEOJZBVEZULAA62VJTEQHKYLI7QSMM 2005 - http://192.168.1.181:8983/solr/jisc5/select?q=hash%3A%22sha1%3AGKHEOJZBVEZULAA62VJTEQHKYLI7QSMM%22&fq=crawl_years%3A2005&rows=1&wt=json&indent=true&facet=true&facet.field=domain&facet.mincount=1\n",
      "GET GKHEOJZBVEZULAA62VJTEQHKYLI7QSMM 2006 - http://192.168.1.181:8983/solr/jisc5/select?q=hash%3A%22sha1%3AGKHEOJZBVEZULAA62VJTEQHKYLI7QSMM%22&fq=crawl_years%3A2006&rows=1&wt=json&indent=true&facet=true&facet.field=domain&facet.mincount=1\n",
      "GET GKHEOJZBVEZULAA62VJTEQHKYLI7QSMM 2007 - http://192.168.1.181:8983/solr/jisc5/select?q=hash%3A%22sha1%3AGKHEOJZBVEZULAA62VJTEQHKYLI7QSMM%22&fq=crawl_years%3A2007&rows=1&wt=json&indent=true&facet=true&facet.field=domain&facet.mincount=1\n",
      "GET GKHEOJZBVEZULAA62VJTEQHKYLI7QSMM 2008 - http://192.168.1.181:8983/solr/jisc5/select?q=hash%3A%22sha1%3AGKHEOJZBVEZULAA62VJTEQHKYLI7QSMM%22&fq=crawl_years%3A2008&rows=1&wt=json&indent=true&facet=true&facet.field=domain&facet.mincount=1\n",
      "GET GKHEOJZBVEZULAA62VJTEQHKYLI7QSMM 2009 - http://192.168.1.181:8983/solr/jisc5/select?q=hash%3A%22sha1%3AGKHEOJZBVEZULAA62VJTEQHKYLI7QSMM%22&fq=crawl_years%3A2009&rows=1&wt=json&indent=true&facet=true&facet.field=domain&facet.mincount=1\n",
      "GET GKHEOJZBVEZULAA62VJTEQHKYLI7QSMM 2010 - http://192.168.1.181:8983/solr/jisc5/select?q=hash%3A%22sha1%3AGKHEOJZBVEZULAA62VJTEQHKYLI7QSMM%22&fq=crawl_years%3A2010&rows=1&wt=json&indent=true&facet=true&facet.field=domain&facet.mincount=1\n",
      "GET K3KF7CQX6UDYUIFPTFRMTEWKIZ4EKB3F 1996 - http://192.168.1.181:8983/solr/jisc5/select?q=hash%3A%22sha1%3AK3KF7CQX6UDYUIFPTFRMTEWKIZ4EKB3F%22&fq=crawl_years%3A1996&rows=1&wt=json&indent=true&facet=true&facet.field=domain&facet.mincount=1\n",
      "GET K3KF7CQX6UDYUIFPTFRMTEWKIZ4EKB3F 1997 - http://192.168.1.181:8983/solr/jisc5/select?q=hash%3A%22sha1%3AK3KF7CQX6UDYUIFPTFRMTEWKIZ4EKB3F%22&fq=crawl_years%3A1997&rows=1&wt=json&indent=true&facet=true&facet.field=domain&facet.mincount=1\n",
      "GET K3KF7CQX6UDYUIFPTFRMTEWKIZ4EKB3F 1998 - http://192.168.1.181:8983/solr/jisc5/select?q=hash%3A%22sha1%3AK3KF7CQX6UDYUIFPTFRMTEWKIZ4EKB3F%22&fq=crawl_years%3A1998&rows=1&wt=json&indent=true&facet=true&facet.field=domain&facet.mincount=1\n",
      "GET K3KF7CQX6UDYUIFPTFRMTEWKIZ4EKB3F 1999 - http://192.168.1.181:8983/solr/jisc5/select?q=hash%3A%22sha1%3AK3KF7CQX6UDYUIFPTFRMTEWKIZ4EKB3F%22&fq=crawl_years%3A1999&rows=1&wt=json&indent=true&facet=true&facet.field=domain&facet.mincount=1\n",
      "GET K3KF7CQX6UDYUIFPTFRMTEWKIZ4EKB3F 2000 - http://192.168.1.181:8983/solr/jisc5/select?q=hash%3A%22sha1%3AK3KF7CQX6UDYUIFPTFRMTEWKIZ4EKB3F%22&fq=crawl_years%3A2000&rows=1&wt=json&indent=true&facet=true&facet.field=domain&facet.mincount=1\n",
      "GET K3KF7CQX6UDYUIFPTFRMTEWKIZ4EKB3F 2001 - http://192.168.1.181:8983/solr/jisc5/select?q=hash%3A%22sha1%3AK3KF7CQX6UDYUIFPTFRMTEWKIZ4EKB3F%22&fq=crawl_years%3A2001&rows=1&wt=json&indent=true&facet=true&facet.field=domain&facet.mincount=1\n",
      "GET K3KF7CQX6UDYUIFPTFRMTEWKIZ4EKB3F 2002 - http://192.168.1.181:8983/solr/jisc5/select?q=hash%3A%22sha1%3AK3KF7CQX6UDYUIFPTFRMTEWKIZ4EKB3F%22&fq=crawl_years%3A2002&rows=1&wt=json&indent=true&facet=true&facet.field=domain&facet.mincount=1\n",
      "GET K3KF7CQX6UDYUIFPTFRMTEWKIZ4EKB3F 2003 - http://192.168.1.181:8983/solr/jisc5/select?q=hash%3A%22sha1%3AK3KF7CQX6UDYUIFPTFRMTEWKIZ4EKB3F%22&fq=crawl_years%3A2003&rows=1&wt=json&indent=true&facet=true&facet.field=domain&facet.mincount=1\n",
      "GET K3KF7CQX6UDYUIFPTFRMTEWKIZ4EKB3F 2004 - http://192.168.1.181:8983/solr/jisc5/select?q=hash%3A%22sha1%3AK3KF7CQX6UDYUIFPTFRMTEWKIZ4EKB3F%22&fq=crawl_years%3A2004&rows=1&wt=json&indent=true&facet=true&facet.field=domain&facet.mincount=1\n",
      "GET K3KF7CQX6UDYUIFPTFRMTEWKIZ4EKB3F 2005 - http://192.168.1.181:8983/solr/jisc5/select?q=hash%3A%22sha1%3AK3KF7CQX6UDYUIFPTFRMTEWKIZ4EKB3F%22&fq=crawl_years%3A2005&rows=1&wt=json&indent=true&facet=true&facet.field=domain&facet.mincount=1\n",
      "GET K3KF7CQX6UDYUIFPTFRMTEWKIZ4EKB3F 2006 - http://192.168.1.181:8983/solr/jisc5/select?q=hash%3A%22sha1%3AK3KF7CQX6UDYUIFPTFRMTEWKIZ4EKB3F%22&fq=crawl_years%3A2006&rows=1&wt=json&indent=true&facet=true&facet.field=domain&facet.mincount=1\n",
      "GET K3KF7CQX6UDYUIFPTFRMTEWKIZ4EKB3F 2007 - http://192.168.1.181:8983/solr/jisc5/select?q=hash%3A%22sha1%3AK3KF7CQX6UDYUIFPTFRMTEWKIZ4EKB3F%22&fq=crawl_years%3A2007&rows=1&wt=json&indent=true&facet=true&facet.field=domain&facet.mincount=1\n",
      "GET K3KF7CQX6UDYUIFPTFRMTEWKIZ4EKB3F 2008 - http://192.168.1.181:8983/solr/jisc5/select?q=hash%3A%22sha1%3AK3KF7CQX6UDYUIFPTFRMTEWKIZ4EKB3F%22&fq=crawl_years%3A2008&rows=1&wt=json&indent=true&facet=true&facet.field=domain&facet.mincount=1\n",
      "GET K3KF7CQX6UDYUIFPTFRMTEWKIZ4EKB3F 2009 - http://192.168.1.181:8983/solr/jisc5/select?q=hash%3A%22sha1%3AK3KF7CQX6UDYUIFPTFRMTEWKIZ4EKB3F%22&fq=crawl_years%3A2009&rows=1&wt=json&indent=true&facet=true&facet.field=domain&facet.mincount=1\n",
      "GET K3KF7CQX6UDYUIFPTFRMTEWKIZ4EKB3F 2010 - http://192.168.1.181:8983/solr/jisc5/select?q=hash%3A%22sha1%3AK3KF7CQX6UDYUIFPTFRMTEWKIZ4EKB3F%22&fq=crawl_years%3A2010&rows=1&wt=json&indent=true&facet=true&facet.field=domain&facet.mincount=1\n",
      "GET TUA4YXOI4BBMBVFNNT5YWOWDR2CKL347 1996 - http://192.168.1.181:8983/solr/jisc5/select?q=hash%3A%22sha1%3ATUA4YXOI4BBMBVFNNT5YWOWDR2CKL347%22&fq=crawl_years%3A1996&rows=1&wt=json&indent=true&facet=true&facet.field=domain&facet.mincount=1\n",
      "GET TUA4YXOI4BBMBVFNNT5YWOWDR2CKL347 1997 - http://192.168.1.181:8983/solr/jisc5/select?q=hash%3A%22sha1%3ATUA4YXOI4BBMBVFNNT5YWOWDR2CKL347%22&fq=crawl_years%3A1997&rows=1&wt=json&indent=true&facet=true&facet.field=domain&facet.mincount=1\n",
      "GET TUA4YXOI4BBMBVFNNT5YWOWDR2CKL347 1998 - http://192.168.1.181:8983/solr/jisc5/select?q=hash%3A%22sha1%3ATUA4YXOI4BBMBVFNNT5YWOWDR2CKL347%22&fq=crawl_years%3A1998&rows=1&wt=json&indent=true&facet=true&facet.field=domain&facet.mincount=1\n",
      "GET TUA4YXOI4BBMBVFNNT5YWOWDR2CKL347 1999 - http://192.168.1.181:8983/solr/jisc5/select?q=hash%3A%22sha1%3ATUA4YXOI4BBMBVFNNT5YWOWDR2CKL347%22&fq=crawl_years%3A1999&rows=1&wt=json&indent=true&facet=true&facet.field=domain&facet.mincount=1\n",
      "GET TUA4YXOI4BBMBVFNNT5YWOWDR2CKL347 2000 - http://192.168.1.181:8983/solr/jisc5/select?q=hash%3A%22sha1%3ATUA4YXOI4BBMBVFNNT5YWOWDR2CKL347%22&fq=crawl_years%3A2000&rows=1&wt=json&indent=true&facet=true&facet.field=domain&facet.mincount=1\n",
      "GET TUA4YXOI4BBMBVFNNT5YWOWDR2CKL347 2001 - http://192.168.1.181:8983/solr/jisc5/select?q=hash%3A%22sha1%3ATUA4YXOI4BBMBVFNNT5YWOWDR2CKL347%22&fq=crawl_years%3A2001&rows=1&wt=json&indent=true&facet=true&facet.field=domain&facet.mincount=1\n",
      "GET TUA4YXOI4BBMBVFNNT5YWOWDR2CKL347 2002 - http://192.168.1.181:8983/solr/jisc5/select?q=hash%3A%22sha1%3ATUA4YXOI4BBMBVFNNT5YWOWDR2CKL347%22&fq=crawl_years%3A2002&rows=1&wt=json&indent=true&facet=true&facet.field=domain&facet.mincount=1\n",
      "GET TUA4YXOI4BBMBVFNNT5YWOWDR2CKL347 2003 - http://192.168.1.181:8983/solr/jisc5/select?q=hash%3A%22sha1%3ATUA4YXOI4BBMBVFNNT5YWOWDR2CKL347%22&fq=crawl_years%3A2003&rows=1&wt=json&indent=true&facet=true&facet.field=domain&facet.mincount=1\n",
      "GET TUA4YXOI4BBMBVFNNT5YWOWDR2CKL347 2004 - http://192.168.1.181:8983/solr/jisc5/select?q=hash%3A%22sha1%3ATUA4YXOI4BBMBVFNNT5YWOWDR2CKL347%22&fq=crawl_years%3A2004&rows=1&wt=json&indent=true&facet=true&facet.field=domain&facet.mincount=1\n",
      "GET TUA4YXOI4BBMBVFNNT5YWOWDR2CKL347 2005 - http://192.168.1.181:8983/solr/jisc5/select?q=hash%3A%22sha1%3ATUA4YXOI4BBMBVFNNT5YWOWDR2CKL347%22&fq=crawl_years%3A2005&rows=1&wt=json&indent=true&facet=true&facet.field=domain&facet.mincount=1\n",
      "GET TUA4YXOI4BBMBVFNNT5YWOWDR2CKL347 2006 - http://192.168.1.181:8983/solr/jisc5/select?q=hash%3A%22sha1%3ATUA4YXOI4BBMBVFNNT5YWOWDR2CKL347%22&fq=crawl_years%3A2006&rows=1&wt=json&indent=true&facet=true&facet.field=domain&facet.mincount=1\n",
      "GET TUA4YXOI4BBMBVFNNT5YWOWDR2CKL347 2007 - http://192.168.1.181:8983/solr/jisc5/select?q=hash%3A%22sha1%3ATUA4YXOI4BBMBVFNNT5YWOWDR2CKL347%22&fq=crawl_years%3A2007&rows=1&wt=json&indent=true&facet=true&facet.field=domain&facet.mincount=1\n",
      "GET TUA4YXOI4BBMBVFNNT5YWOWDR2CKL347 2008 - http://192.168.1.181:8983/solr/jisc5/select?q=hash%3A%22sha1%3ATUA4YXOI4BBMBVFNNT5YWOWDR2CKL347%22&fq=crawl_years%3A2008&rows=1&wt=json&indent=true&facet=true&facet.field=domain&facet.mincount=1\n",
      "GET TUA4YXOI4BBMBVFNNT5YWOWDR2CKL347 2009 - http://192.168.1.181:8983/solr/jisc5/select?q=hash%3A%22sha1%3ATUA4YXOI4BBMBVFNNT5YWOWDR2CKL347%22&fq=crawl_years%3A2009&rows=1&wt=json&indent=true&facet=true&facet.field=domain&facet.mincount=1\n",
      "GET TUA4YXOI4BBMBVFNNT5YWOWDR2CKL347 2010 - http://192.168.1.181:8983/solr/jisc5/select?q=hash%3A%22sha1%3ATUA4YXOI4BBMBVFNNT5YWOWDR2CKL347%22&fq=crawl_years%3A2010&rows=1&wt=json&indent=true&facet=true&facet.field=domain&facet.mincount=1\n"
     ]
    }
   ],
   "source": [
    "import json, sys, codecs, hashlib\n",
    "import urllib, datetime, re\n",
    "from pprint import pprint\n",
    "\n",
    "#\n",
    "#urlo = urllib.FancyURLopener({\"http\":\"http://explorer.bl.uk:3127\"})\n",
    "#\n",
    "urlo=urllib.URLopener()\n",
    "\n",
    "q = \"http://192.168.1.181:8983/solr/jisc5/select?q=hash%%3A%%22sha1%%3A%s%%22&fq=crawl_years%%3A%s&rows=1&wt=json&indent=true&facet=true&facet.field=domain&facet.mincount=1\"\n",
    "\n",
    "for c in clears:\n",
    "    for y in range(1996,2011):\n",
    "        k = c['hash']\n",
    "        yq = q % ( k, y )\n",
    "        print(\"GET %s %s - %s\" % (k,y, yq) )\n",
    "        urlo.retrieve(yq , \"json/%s-for-%s.json\" % (k,y) )\n",
    "\n",
    "print(\"DONE\")"
   ]
  },
  {
   "cell_type": "code",
   "execution_count": null,
   "metadata": {
    "collapsed": true
   },
   "outputs": [],
   "source": []
  }
 ],
 "metadata": {
  "kernelspec": {
   "display_name": "Python 2",
   "language": "python",
   "name": "python2"
  },
  "language_info": {
   "codemirror_mode": {
    "name": "ipython",
    "version": 2
   },
   "file_extension": ".py",
   "mimetype": "text/x-python",
   "name": "python",
   "nbconvert_exporter": "python",
   "pygments_lexer": "ipython2",
   "version": "2.7.5"
  }
 },
 "nbformat": 4,
 "nbformat_minor": 0
}
